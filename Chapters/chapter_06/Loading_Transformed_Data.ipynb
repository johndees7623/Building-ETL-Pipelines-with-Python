{
 "cells": [
  {
   "cell_type": "markdown",
   "id": "048105ee",
   "metadata": {},
   "source": [
    "### Best Practices for Data Loading"
   ]
  },
  {
   "cell_type": "code",
   "execution_count": 93,
   "id": "30afd415",
   "metadata": {
    "ExecuteTime": {
     "end_time": "2024-04-19T17:39:07.060311Z",
     "start_time": "2024-04-19T17:39:07.056463Z"
    }
   },
   "outputs": [],
   "source": [
    "# import modules\n",
    "import sqlite3\n",
    "import os"
   ]
  },
  {
   "cell_type": "code",
   "execution_count": 94,
   "id": "c3f9beb4",
   "metadata": {
    "ExecuteTime": {
     "end_time": "2024-04-19T17:39:07.434483Z",
     "start_time": "2024-04-19T17:39:07.426763Z"
    }
   },
   "outputs": [],
   "source": [
    "# demo data\n",
    "laundry_mat_data = [\n",
    "    {\"id\":1, \"product\": \"Detergent\", \"dollar_price_per_unit\": 4.5, \"quantity\": 100, \"total_cost\": 200},\n",
    "    {\"id\":2, \"product\": \"Dryer Sheets Box\", \"dollar_price_per_unit\": 3.5, \"quantity\": 100, \"total_cost\": 350},\n",
    "    {\"id\":3, \"product\": \"Washing Machine\", \"dollar_price_per_unit\": 400, \"quantity\": 25, \"total_cost\": 10000},\n",
    "    {\"id\":4, \"product\": \"Dryer\", \"dollar_price_per_unit\": 400, \"quantity\": 25, \"total_cost\": 10000},\n",
    "]\n",
    "\n",
    "# demo data\n",
    "laundry_mat_data_2 = [\n",
    "    {\"id\":5, \"product\": \"Soap\", \"dollar_price_per_unit\": 1.5, \"quantity\": 100, \"total_cost\": 150},\n",
    "    {\"id\":6, \"product\": \"Dryer Sheets Bundle\", \"dollar_price_per_unit\": 13.5, \"quantity\": 100, \"total_cost\": 1350},\n",
    "    {\"id\":7, \"product\": \"Wash Rag\", \"dollar_price_per_unit\": 2, \"quantity\": 25, \"total_cost\": 50},\n",
    "    {\"id\":8, \"product\": \"Blow Dryer\", \"dollar_price_per_unit\": 40, \"quantity\": 25, \"total_cost\": 1000},\n",
    "]\n",
    "\n",
    "# demo data\n",
    "laundry_mat_data_dupes = [\n",
    "    {\"id\":1, \"product\": \"Detergent\", \"dollar_price_per_unit\": 4.5, \"quantity\": 100, \"total_cost\": 200},\n",
    "    {\"id\":2, \"product\": \"Dryer Sheets Box\", \"dollar_price_per_unit\": 3.5, \"quantity\": 100, \"total_cost\": 350},\n",
    "    {\"id\":9, \"product\": \"Scrubber Brush\", \"dollar_price_per_unit\": 2, \"quantity\": 25, \"total_cost\": 50},\n",
    "    {\"id\":10, \"product\": \"Laundry Tabs\", \"dollar_price_per_unit\": 40, \"quantity\": 25, \"total_cost\": 1000},\n",
    "]"
   ]
  },
  {
   "cell_type": "code",
   "outputs": [
    {
     "name": "stdout",
     "output_type": "stream",
     "text": [
      "Database and table created at C:\\Users\\john.dees\\PycharmProjects\\Building-ETL-Pipelines-with-Python\\Chapters\\chapter_06\\laundry_mat.db\n"
     ]
    }
   ],
   "source": [
    "#create new sqlite3 database named laundry_mat.db and table named laundry_mat in current directory\n",
    "# Define the path to the database\n",
    "db_path = os.path.join(os.getcwd(), 'laundry_mat.db')\n",
    "\n",
    "# Connect to the SQLite database. If it doesn't exist, it will be created in the current working directory.\n",
    "conn = sqlite3.connect(db_path)\n",
    "\n",
    "# Create a cursor object using the cursor method\n",
    "cursor = conn.cursor()\n",
    "\n",
    "# SQL command to create a table\n",
    "create_table_sql = '''\n",
    "CREATE TABLE IF NOT EXISTS laundry_mat (\n",
    "    id int primary key,\n",
    "    product string,\n",
    "    dollar_price_per_unit TEXT decimal(10, 2),\n",
    "    quantity INTEGER,\n",
    "    total_cost decimal(10, 2)\n",
    ");\n",
    "'''\n",
    "# Execute the SQL command to create the table\n",
    "cursor.execute(create_table_sql)\n",
    "\n",
    "conn.commit()\n",
    "conn.close()\n",
    "print(f\"Database and table created at {db_path}\")"
   ],
   "metadata": {
    "collapsed": false,
    "ExecuteTime": {
     "end_time": "2024-04-19T17:39:07.736486Z",
     "start_time": "2024-04-19T17:39:07.730657Z"
    }
   },
   "id": "67129dbb48a1c229",
   "execution_count": 95
  },
  {
   "cell_type": "code",
   "outputs": [],
   "source": [
    "# conn = sqlite3.connect(\"laundry_mat.db\")  # Connect to the database\n",
    "# # Create a cursor object using the cursor method\n",
    "# cursor = conn.cursor()\n",
    "# \n",
    "# # drop table laundry_mat if it exists\n",
    "# cursor.execute(\"DROP TABLE IF EXISTS laundry_mat\")\n",
    "# \n",
    "# conn.commit()\n",
    "# conn.close()"
   ],
   "metadata": {
    "collapsed": false,
    "ExecuteTime": {
     "end_time": "2024-04-19T17:39:07.992555Z",
     "start_time": "2024-04-19T17:39:07.989200Z"
    }
   },
   "id": "ff7cd5f0217354c",
   "execution_count": 96
  },
  {
   "cell_type": "code",
   "outputs": [],
   "source": [
    "conn = sqlite3.connect(\"laundry_mat.db\")  # Connect to the database\n",
    "cursor = conn.cursor()\n",
    "\n",
    "# Truncate the existing data from the table \"laundry_mat\"\n",
    "cursor.execute(\"DELETE FROM laundry_mat\")\n",
    "conn.commit()\n",
    "conn.close()\n",
    "\n"
   ],
   "metadata": {
    "collapsed": false,
    "ExecuteTime": {
     "end_time": "2024-04-19T17:39:08.189085Z",
     "start_time": "2024-04-19T17:39:08.175441Z"
    }
   },
   "id": "b91900f920c13eca",
   "execution_count": 97
  },
  {
   "cell_type": "code",
   "outputs": [],
   "source": [
    "conn = sqlite3.connect(\"laundry_mat.db\")  # Connect to the database\n",
    "cursor = conn.cursor()\n",
    "\n",
    "# Insert new data\n",
    "for record in laundry_mat_data:\n",
    "    cursor.execute(\"INSERT INTO laundry_mat (id, product, dollar_price_per_unit, quantity, total_cost) VALUES (?, ?, ?, ?, ?)\",\n",
    "                   (record[\"id\"], record[\"product\"], record[\"dollar_price_per_unit\"], record[\"quantity\"], record[\"total_cost\"]))\n",
    "conn.commit()\n",
    "conn.close()"
   ],
   "metadata": {
    "collapsed": false,
    "ExecuteTime": {
     "end_time": "2024-04-19T17:39:08.371346Z",
     "start_time": "2024-04-19T17:39:08.355983Z"
    }
   },
   "id": "c145c57c27f42c07",
   "execution_count": 98
  },
  {
   "cell_type": "code",
   "outputs": [
    {
     "name": "stdout",
     "output_type": "stream",
     "text": [
      "(1, 'Detergent', '4.5', 100, 200)\n",
      "(2, 'Dryer Sheets Box', '3.5', 100, 350)\n",
      "(3, 'Washing Machine', '400', 25, 10000)\n",
      "(4, 'Dryer', '400', 25, 10000)\n"
     ]
    }
   ],
   "source": [
    "#read from laundry_mat table\n",
    "conn = sqlite3.connect(\"laundry_mat.db\")  # Connect to the database\n",
    "cursor = conn.cursor()\n",
    "\n",
    "# Select all records from the table\n",
    "cursor.execute(\"SELECT * FROM laundry_mat\")\n",
    "\n",
    "# Fetch all records\n",
    "records = cursor.fetchall()\n",
    "\n",
    "\n",
    "if not records:\n",
    "    print(\"No records found in the table\")\n",
    "else:\n",
    "    # Print the records\n",
    "    for record in records:\n",
    "        print(record)\n",
    "        #print 'no records' if no records\n",
    "    \n",
    "conn.close()\n"
   ],
   "metadata": {
    "collapsed": false,
    "ExecuteTime": {
     "end_time": "2024-04-19T17:39:08.523076Z",
     "start_time": "2024-04-19T17:39:08.515670Z"
    }
   },
   "id": "f9bc26d1368f661f",
   "execution_count": 99
  },
  {
   "cell_type": "markdown",
   "id": "52844b6f",
   "metadata": {},
   "source": [
    "Full Data Load"
   ]
  },
  {
   "cell_type": "code",
   "execution_count": 100,
   "id": "ce9ea91d",
   "metadata": {
    "ExecuteTime": {
     "end_time": "2024-04-19T17:39:08.820744Z",
     "start_time": "2024-04-19T17:39:08.811836Z"
    }
   },
   "outputs": [],
   "source": [
    "def perform_full_data_load(laundry_mat_data):\n",
    "    conn = sqlite3.connect(\"laundry_mat.db\")  # Connect to the database\n",
    "    cursor = conn.cursor()\n",
    "\n",
    "    # Truncate the existing data\n",
    "    cursor.execute(\"DELETE FROM laundry_mat\")\n",
    "\n",
    "    # Insert new data\n",
    "    for record in laundry_mat_data:\n",
    "        cursor.execute(\"INSERT INTO laundry_mat (id, product, dollar_price_per_unit, quantity, total_cost) VALUES (?, ?, ?, ?, ?)\",\n",
    "                   (record[\"id\"], record[\"product\"], record[\"dollar_price_per_unit\"], record[\"quantity\"], record[\"total_cost\"]))\n",
    "\n",
    "    conn.commit()\n",
    "    conn.close()"
   ]
  },
  {
   "cell_type": "code",
   "outputs": [],
   "source": [],
   "metadata": {
    "collapsed": false,
    "ExecuteTime": {
     "end_time": "2024-04-19T17:39:08.999406Z",
     "start_time": "2024-04-19T17:39:08.996058Z"
    }
   },
   "id": "6d5f29277be80e59",
   "execution_count": 100
  },
  {
   "cell_type": "code",
   "execution_count": 101,
   "id": "7eefd75b",
   "metadata": {
    "ExecuteTime": {
     "end_time": "2024-04-19T17:39:09.213124Z",
     "start_time": "2024-04-19T17:39:09.199316Z"
    }
   },
   "outputs": [],
   "source": [
    "perform_full_data_load(laundry_mat_data)"
   ]
  },
  {
   "cell_type": "markdown",
   "id": "40157e58",
   "metadata": {},
   "source": [
    "Incremental Data Load"
   ]
  },
  {
   "cell_type": "code",
   "execution_count": 102,
   "id": "353fbcd4",
   "metadata": {
    "ExecuteTime": {
     "end_time": "2024-04-19T17:39:10.361559Z",
     "start_time": "2024-04-19T17:39:10.356554Z"
    }
   },
   "outputs": [],
   "source": [
    "def perform_incremental_data_load(laundry_mat_data):\n",
    "    conn = sqlite3.connect(\"laundry_mat.db\")  # Connect to the database\n",
    "    cursor = conn.cursor()\n",
    "\n",
    "    # Insert new data (if the product doesn't already exist ... the \"or ignore\" part will skip dupes that would violate a unique constraint)\n",
    "    for record in laundry_mat_data_2:\n",
    "        cursor.execute(\"INSERT OR IGNORE INTO laundry_mat (id, product, dollar_price_per_unit, quantity, total_cost) VALUES (?, ?, ?, ?, ?)\",\n",
    "                   (record[\"id\"], record[\"product\"], record[\"dollar_price_per_unit\"], record[\"quantity\"], record[\"total_cost\"]))\n",
    "\n",
    "    for record in laundry_mat_data_dupes:\n",
    "        cursor.execute(\"INSERT OR IGNORE INTO laundry_mat (id, product, dollar_price_per_unit, quantity, total_cost) VALUES (?, ?, ?, ?, ?)\",\n",
    "                   (record[\"id\"], record[\"product\"], record[\"dollar_price_per_unit\"], record[\"quantity\"], record[\"total_cost\"]))\n",
    "\n",
    "    conn.commit()\n",
    "    conn.close()"
   ]
  },
  {
   "cell_type": "code",
   "execution_count": 103,
   "id": "37075fd1",
   "metadata": {
    "ExecuteTime": {
     "end_time": "2024-04-19T17:39:10.799018Z",
     "start_time": "2024-04-19T17:39:10.771536Z"
    }
   },
   "outputs": [],
   "source": [
    "perform_incremental_data_load(laundry_mat_data)"
   ]
  },
  {
   "cell_type": "code",
   "outputs": [
    {
     "name": "stdout",
     "output_type": "stream",
     "text": [
      "(1, 'Detergent', '4.5', 100, 200)\n",
      "(2, 'Dryer Sheets Box', '3.5', 100, 350)\n",
      "(3, 'Washing Machine', '400', 25, 10000)\n",
      "(4, 'Dryer', '400', 25, 10000)\n",
      "(5, 'Soap', '1.5', 100, 150)\n",
      "(6, 'Dryer Sheets Bundle', '13.5', 100, 1350)\n",
      "(7, 'Wash Rag', '2', 25, 50)\n",
      "(8, 'Blow Dryer', '40', 25, 1000)\n",
      "(9, 'Scrubber Brush', '2', 25, 50)\n",
      "(10, 'Laundry Tabs', '40', 25, 1000)\n"
     ]
    }
   ],
   "source": [
    "#read from laundry_mat table\n",
    "conn = sqlite3.connect(\"laundry_mat.db\")  # Connect to the database\n",
    "cursor = conn.cursor()\n",
    "\n",
    "# Select all records from the table\n",
    "cursor.execute(\"SELECT * FROM laundry_mat\")\n",
    "\n",
    "# Fetch all records\n",
    "records = cursor.fetchall()\n",
    "\n",
    "\n",
    "if not records:\n",
    "    print(\"No records found in the table\")\n",
    "else:\n",
    "    # Print the records\n",
    "    for record in records:\n",
    "        print(record)\n",
    "        #print 'no records' if no records\n",
    "    \n",
    "conn.close()"
   ],
   "metadata": {
    "collapsed": false,
    "ExecuteTime": {
     "end_time": "2024-04-19T17:39:11.036090Z",
     "start_time": "2024-04-19T17:39:11.021583Z"
    }
   },
   "id": "aff631c40835112f",
   "execution_count": 104
  },
  {
   "cell_type": "code",
   "outputs": [],
   "source": [],
   "metadata": {
    "collapsed": false
   },
   "id": "a8ece2ffbc9b65b3"
  }
 ],
 "metadata": {
  "kernelspec": {
   "display_name": "Python 3 (ipykernel)",
   "language": "python",
   "name": "python3"
  },
  "language_info": {
   "codemirror_mode": {
    "name": "ipython",
    "version": 3
   },
   "file_extension": ".py",
   "mimetype": "text/x-python",
   "name": "python",
   "nbconvert_exporter": "python",
   "pygments_lexer": "ipython3",
   "version": "3.9.12"
  }
 },
 "nbformat": 4,
 "nbformat_minor": 5
}
